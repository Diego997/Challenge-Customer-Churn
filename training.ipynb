{
  "nbformat": 4,
  "nbformat_minor": 0,
  "metadata": {
    "colab": {
      "name": "training.ipynb",
      "provenance": [],
      "collapsed_sections": []
    },
    "kernelspec": {
      "name": "python3",
      "display_name": "Python 3"
    },
    "language_info": {
      "name": "python"
    }
  },
  "cells": [
    {
      "cell_type": "code",
      "metadata": {
        "colab": {
          "base_uri": "https://localhost:8080/"
        },
        "id": "9mUZx1xK9PSC",
        "outputId": "83665fcb-9339-4c55-ff59-5320470f0575"
      },
      "source": [
        "!pip install -r requirements.txt"
      ],
      "execution_count": 1306,
      "outputs": [
        {
          "output_type": "stream",
          "text": [
            "Requirement already satisfied: matplotlib==3.2.2 in /usr/local/lib/python3.7/dist-packages (from -r requirements.txt (line 1)) (3.2.2)\n",
            "Requirement already satisfied: numpy==1.19.5 in /usr/local/lib/python3.7/dist-packages (from -r requirements.txt (line 2)) (1.19.5)\n",
            "Requirement already satisfied: pandas==1.1.5 in /usr/local/lib/python3.7/dist-packages (from -r requirements.txt (line 3)) (1.1.5)\n",
            "Requirement already satisfied: seaborn==0.11.1 in /usr/local/lib/python3.7/dist-packages (from -r requirements.txt (line 4)) (0.11.1)\n",
            "Requirement already satisfied: scikit-image==0.16.2 in /usr/local/lib/python3.7/dist-packages (from -r requirements.txt (line 5)) (0.16.2)\n",
            "Requirement already satisfied: scikit-learn==0.22.2.post1 in /usr/local/lib/python3.7/dist-packages (from -r requirements.txt (line 6)) (0.22.2.post1)\n",
            "Requirement already satisfied: sklearn==0.0 in /usr/local/lib/python3.7/dist-packages (from -r requirements.txt (line 7)) (0.0)\n",
            "Requirement already satisfied: sklearn-pandas==1.8.0 in /usr/local/lib/python3.7/dist-packages (from -r requirements.txt (line 8)) (1.8.0)\n",
            "Requirement already satisfied: python-dateutil>=2.1 in /usr/local/lib/python3.7/dist-packages (from matplotlib==3.2.2->-r requirements.txt (line 1)) (2.8.1)\n",
            "Requirement already satisfied: cycler>=0.10 in /usr/local/lib/python3.7/dist-packages (from matplotlib==3.2.2->-r requirements.txt (line 1)) (0.10.0)\n",
            "Requirement already satisfied: kiwisolver>=1.0.1 in /usr/local/lib/python3.7/dist-packages (from matplotlib==3.2.2->-r requirements.txt (line 1)) (1.3.1)\n",
            "Requirement already satisfied: pyparsing!=2.0.4,!=2.1.2,!=2.1.6,>=2.0.1 in /usr/local/lib/python3.7/dist-packages (from matplotlib==3.2.2->-r requirements.txt (line 1)) (2.4.7)\n",
            "Requirement already satisfied: pytz>=2017.2 in /usr/local/lib/python3.7/dist-packages (from pandas==1.1.5->-r requirements.txt (line 3)) (2018.9)\n",
            "Requirement already satisfied: scipy>=1.0 in /usr/local/lib/python3.7/dist-packages (from seaborn==0.11.1->-r requirements.txt (line 4)) (1.4.1)\n",
            "Requirement already satisfied: imageio>=2.3.0 in /usr/local/lib/python3.7/dist-packages (from scikit-image==0.16.2->-r requirements.txt (line 5)) (2.4.1)\n",
            "Requirement already satisfied: networkx>=2.0 in /usr/local/lib/python3.7/dist-packages (from scikit-image==0.16.2->-r requirements.txt (line 5)) (2.5.1)\n",
            "Requirement already satisfied: pillow>=4.3.0 in /usr/local/lib/python3.7/dist-packages (from scikit-image==0.16.2->-r requirements.txt (line 5)) (7.1.2)\n",
            "Requirement already satisfied: PyWavelets>=0.4.0 in /usr/local/lib/python3.7/dist-packages (from scikit-image==0.16.2->-r requirements.txt (line 5)) (1.1.1)\n",
            "Requirement already satisfied: joblib>=0.11 in /usr/local/lib/python3.7/dist-packages (from scikit-learn==0.22.2.post1->-r requirements.txt (line 6)) (1.0.1)\n",
            "Requirement already satisfied: six>=1.5 in /usr/local/lib/python3.7/dist-packages (from python-dateutil>=2.1->matplotlib==3.2.2->-r requirements.txt (line 1)) (1.15.0)\n",
            "Requirement already satisfied: decorator<5,>=4.3 in /usr/local/lib/python3.7/dist-packages (from networkx>=2.0->scikit-image==0.16.2->-r requirements.txt (line 5)) (4.4.2)\n"
          ],
          "name": "stdout"
        }
      ]
    },
    {
      "cell_type": "code",
      "metadata": {
        "id": "0mh5Htrife1i"
      },
      "source": [
        "import numpy as np\n",
        "import pandas as pd\n",
        "from sklearn import preprocessing\n",
        "from sklearn.metrics import accuracy_score\n",
        "from sklearn import metrics\n",
        "import seaborn as sns\n",
        "sns.set(palette=\"rainbow\")\n",
        "import matplotlib.pyplot as plt\n",
        "from sklearn.metrics import accuracy_score\n",
        "from sklearn.ensemble import RandomForestClassifier"
      ],
      "execution_count": 1307,
      "outputs": []
    },
    {
      "cell_type": "code",
      "metadata": {
        "id": "olcoZpL1INb7"
      },
      "source": [
        "#Dataset import\n",
        "train=pd.read_csv('train.csv')\n",
        "test=pd.read_csv('test.csv')"
      ],
      "execution_count": 1308,
      "outputs": []
    },
    {
      "cell_type": "code",
      "metadata": {
        "colab": {
          "base_uri": "https://localhost:8080/",
          "height": 419
        },
        "id": "DDcPkNP4f0HX",
        "outputId": "d01f451b-dba4-4e9c-f8b6-3ca4f8daccb4"
      },
      "source": [
        "#Show Preview Dataset\n",
        "train"
      ],
      "execution_count": 1309,
      "outputs": [
        {
          "output_type": "execute_result",
          "data": {
            "text/html": [
              "<div>\n",
              "<style scoped>\n",
              "    .dataframe tbody tr th:only-of-type {\n",
              "        vertical-align: middle;\n",
              "    }\n",
              "\n",
              "    .dataframe tbody tr th {\n",
              "        vertical-align: top;\n",
              "    }\n",
              "\n",
              "    .dataframe thead th {\n",
              "        text-align: right;\n",
              "    }\n",
              "</style>\n",
              "<table border=\"1\" class=\"dataframe\">\n",
              "  <thead>\n",
              "    <tr style=\"text-align: right;\">\n",
              "      <th></th>\n",
              "      <th>Exited</th>\n",
              "      <th>RowNumber</th>\n",
              "      <th>CustomerId</th>\n",
              "      <th>Surname</th>\n",
              "      <th>CreditScore</th>\n",
              "      <th>Geography</th>\n",
              "      <th>Gender</th>\n",
              "      <th>Age</th>\n",
              "      <th>Tenure</th>\n",
              "      <th>Balance</th>\n",
              "      <th>NumOfProducts</th>\n",
              "      <th>HasCrCard</th>\n",
              "      <th>IsActiveMember</th>\n",
              "      <th>EstimatedSalary</th>\n",
              "    </tr>\n",
              "  </thead>\n",
              "  <tbody>\n",
              "    <tr>\n",
              "      <th>0</th>\n",
              "      <td>0</td>\n",
              "      <td>681</td>\n",
              "      <td>15780804</td>\n",
              "      <td>Nucci</td>\n",
              "      <td>482</td>\n",
              "      <td>France</td>\n",
              "      <td>Male</td>\n",
              "      <td>55</td>\n",
              "      <td>5</td>\n",
              "      <td>97318.25</td>\n",
              "      <td>1</td>\n",
              "      <td>0</td>\n",
              "      <td>1</td>\n",
              "      <td>78416.14</td>\n",
              "    </tr>\n",
              "    <tr>\n",
              "      <th>1</th>\n",
              "      <td>0</td>\n",
              "      <td>8938</td>\n",
              "      <td>15737404</td>\n",
              "      <td>Kesteven</td>\n",
              "      <td>731</td>\n",
              "      <td>France</td>\n",
              "      <td>Male</td>\n",
              "      <td>31</td>\n",
              "      <td>1</td>\n",
              "      <td>132512.26</td>\n",
              "      <td>1</td>\n",
              "      <td>1</td>\n",
              "      <td>1</td>\n",
              "      <td>185466.85</td>\n",
              "    </tr>\n",
              "    <tr>\n",
              "      <th>2</th>\n",
              "      <td>0</td>\n",
              "      <td>1468</td>\n",
              "      <td>15681843</td>\n",
              "      <td>Barbour</td>\n",
              "      <td>624</td>\n",
              "      <td>Germany</td>\n",
              "      <td>Female</td>\n",
              "      <td>35</td>\n",
              "      <td>0</td>\n",
              "      <td>180303.24</td>\n",
              "      <td>2</td>\n",
              "      <td>1</td>\n",
              "      <td>0</td>\n",
              "      <td>163587.90</td>\n",
              "    </tr>\n",
              "    <tr>\n",
              "      <th>3</th>\n",
              "      <td>0</td>\n",
              "      <td>840</td>\n",
              "      <td>15727915</td>\n",
              "      <td>Artemiev</td>\n",
              "      <td>507</td>\n",
              "      <td>France</td>\n",
              "      <td>Male</td>\n",
              "      <td>36</td>\n",
              "      <td>4</td>\n",
              "      <td>83543.37</td>\n",
              "      <td>1</td>\n",
              "      <td>0</td>\n",
              "      <td>0</td>\n",
              "      <td>140134.43</td>\n",
              "    </tr>\n",
              "    <tr>\n",
              "      <th>4</th>\n",
              "      <td>0</td>\n",
              "      <td>6048</td>\n",
              "      <td>15790247</td>\n",
              "      <td>Sims</td>\n",
              "      <td>536</td>\n",
              "      <td>Spain</td>\n",
              "      <td>Male</td>\n",
              "      <td>40</td>\n",
              "      <td>9</td>\n",
              "      <td>0.00</td>\n",
              "      <td>2</td>\n",
              "      <td>1</td>\n",
              "      <td>1</td>\n",
              "      <td>11959.03</td>\n",
              "    </tr>\n",
              "    <tr>\n",
              "      <th>...</th>\n",
              "      <td>...</td>\n",
              "      <td>...</td>\n",
              "      <td>...</td>\n",
              "      <td>...</td>\n",
              "      <td>...</td>\n",
              "      <td>...</td>\n",
              "      <td>...</td>\n",
              "      <td>...</td>\n",
              "      <td>...</td>\n",
              "      <td>...</td>\n",
              "      <td>...</td>\n",
              "      <td>...</td>\n",
              "      <td>...</td>\n",
              "      <td>...</td>\n",
              "    </tr>\n",
              "    <tr>\n",
              "      <th>6395</th>\n",
              "      <td>0</td>\n",
              "      <td>3000</td>\n",
              "      <td>15593014</td>\n",
              "      <td>Evseyev</td>\n",
              "      <td>525</td>\n",
              "      <td>France</td>\n",
              "      <td>Male</td>\n",
              "      <td>33</td>\n",
              "      <td>1</td>\n",
              "      <td>112833.35</td>\n",
              "      <td>1</td>\n",
              "      <td>0</td>\n",
              "      <td>1</td>\n",
              "      <td>175178.56</td>\n",
              "    </tr>\n",
              "    <tr>\n",
              "      <th>6396</th>\n",
              "      <td>0</td>\n",
              "      <td>6667</td>\n",
              "      <td>15798709</td>\n",
              "      <td>Gill</td>\n",
              "      <td>588</td>\n",
              "      <td>Spain</td>\n",
              "      <td>Male</td>\n",
              "      <td>32</td>\n",
              "      <td>3</td>\n",
              "      <td>109109.33</td>\n",
              "      <td>1</td>\n",
              "      <td>0</td>\n",
              "      <td>1</td>\n",
              "      <td>4993.94</td>\n",
              "    </tr>\n",
              "    <tr>\n",
              "      <th>6397</th>\n",
              "      <td>1</td>\n",
              "      <td>2093</td>\n",
              "      <td>15757408</td>\n",
              "      <td>Lo</td>\n",
              "      <td>655</td>\n",
              "      <td>Spain</td>\n",
              "      <td>Male</td>\n",
              "      <td>38</td>\n",
              "      <td>3</td>\n",
              "      <td>250898.09</td>\n",
              "      <td>3</td>\n",
              "      <td>0</td>\n",
              "      <td>1</td>\n",
              "      <td>81054.00</td>\n",
              "    </tr>\n",
              "    <tr>\n",
              "      <th>6398</th>\n",
              "      <td>1</td>\n",
              "      <td>9694</td>\n",
              "      <td>15728963</td>\n",
              "      <td>Wei</td>\n",
              "      <td>617</td>\n",
              "      <td>Germany</td>\n",
              "      <td>Female</td>\n",
              "      <td>51</td>\n",
              "      <td>10</td>\n",
              "      <td>167273.71</td>\n",
              "      <td>1</td>\n",
              "      <td>0</td>\n",
              "      <td>0</td>\n",
              "      <td>93439.75</td>\n",
              "    </tr>\n",
              "    <tr>\n",
              "      <th>6399</th>\n",
              "      <td>0</td>\n",
              "      <td>1777</td>\n",
              "      <td>15674851</td>\n",
              "      <td>T'ien</td>\n",
              "      <td>622</td>\n",
              "      <td>France</td>\n",
              "      <td>Male</td>\n",
              "      <td>38</td>\n",
              "      <td>5</td>\n",
              "      <td>0.00</td>\n",
              "      <td>2</td>\n",
              "      <td>0</td>\n",
              "      <td>0</td>\n",
              "      <td>105295.77</td>\n",
              "    </tr>\n",
              "  </tbody>\n",
              "</table>\n",
              "<p>6400 rows × 14 columns</p>\n",
              "</div>"
            ],
            "text/plain": [
              "      Exited  RowNumber  CustomerId  ... HasCrCard  IsActiveMember EstimatedSalary\n",
              "0          0        681    15780804  ...         0               1        78416.14\n",
              "1          0       8938    15737404  ...         1               1       185466.85\n",
              "2          0       1468    15681843  ...         1               0       163587.90\n",
              "3          0        840    15727915  ...         0               0       140134.43\n",
              "4          0       6048    15790247  ...         1               1        11959.03\n",
              "...      ...        ...         ...  ...       ...             ...             ...\n",
              "6395       0       3000    15593014  ...         0               1       175178.56\n",
              "6396       0       6667    15798709  ...         0               1         4993.94\n",
              "6397       1       2093    15757408  ...         0               1        81054.00\n",
              "6398       1       9694    15728963  ...         0               0        93439.75\n",
              "6399       0       1777    15674851  ...         0               0       105295.77\n",
              "\n",
              "[6400 rows x 14 columns]"
            ]
          },
          "metadata": {
            "tags": []
          },
          "execution_count": 1309
        }
      ]
    },
    {
      "cell_type": "code",
      "metadata": {
        "colab": {
          "base_uri": "https://localhost:8080/",
          "height": 419
        },
        "id": "4nuna2nxgQWw",
        "outputId": "4402dfc7-d3e1-4415-f91d-a8f2e3e2bb09"
      },
      "source": [
        "#Show Preview Dataset\n",
        "test"
      ],
      "execution_count": 1310,
      "outputs": [
        {
          "output_type": "execute_result",
          "data": {
            "text/html": [
              "<div>\n",
              "<style scoped>\n",
              "    .dataframe tbody tr th:only-of-type {\n",
              "        vertical-align: middle;\n",
              "    }\n",
              "\n",
              "    .dataframe tbody tr th {\n",
              "        vertical-align: top;\n",
              "    }\n",
              "\n",
              "    .dataframe thead th {\n",
              "        text-align: right;\n",
              "    }\n",
              "</style>\n",
              "<table border=\"1\" class=\"dataframe\">\n",
              "  <thead>\n",
              "    <tr style=\"text-align: right;\">\n",
              "      <th></th>\n",
              "      <th>Exited</th>\n",
              "      <th>RowNumber</th>\n",
              "      <th>CustomerId</th>\n",
              "      <th>Surname</th>\n",
              "      <th>CreditScore</th>\n",
              "      <th>Geography</th>\n",
              "      <th>Gender</th>\n",
              "      <th>Age</th>\n",
              "      <th>Tenure</th>\n",
              "      <th>Balance</th>\n",
              "      <th>NumOfProducts</th>\n",
              "      <th>HasCrCard</th>\n",
              "      <th>IsActiveMember</th>\n",
              "      <th>EstimatedSalary</th>\n",
              "    </tr>\n",
              "  </thead>\n",
              "  <tbody>\n",
              "    <tr>\n",
              "      <th>0</th>\n",
              "      <td>0</td>\n",
              "      <td>6796</td>\n",
              "      <td>15713347</td>\n",
              "      <td>Reynolds</td>\n",
              "      <td>577</td>\n",
              "      <td>Spain</td>\n",
              "      <td>Male</td>\n",
              "      <td>48</td>\n",
              "      <td>6</td>\n",
              "      <td>179852.26</td>\n",
              "      <td>1</td>\n",
              "      <td>1</td>\n",
              "      <td>0</td>\n",
              "      <td>193580.32</td>\n",
              "    </tr>\n",
              "    <tr>\n",
              "      <th>1</th>\n",
              "      <td>0</td>\n",
              "      <td>9255</td>\n",
              "      <td>15601116</td>\n",
              "      <td>P'an</td>\n",
              "      <td>686</td>\n",
              "      <td>France</td>\n",
              "      <td>Male</td>\n",
              "      <td>32</td>\n",
              "      <td>6</td>\n",
              "      <td>0.00</td>\n",
              "      <td>2</td>\n",
              "      <td>1</td>\n",
              "      <td>1</td>\n",
              "      <td>179093.26</td>\n",
              "    </tr>\n",
              "    <tr>\n",
              "      <th>2</th>\n",
              "      <td>0</td>\n",
              "      <td>5074</td>\n",
              "      <td>15800295</td>\n",
              "      <td>Cruz</td>\n",
              "      <td>644</td>\n",
              "      <td>Germany</td>\n",
              "      <td>Male</td>\n",
              "      <td>34</td>\n",
              "      <td>9</td>\n",
              "      <td>112746.54</td>\n",
              "      <td>2</td>\n",
              "      <td>0</td>\n",
              "      <td>0</td>\n",
              "      <td>141230.07</td>\n",
              "    </tr>\n",
              "    <tr>\n",
              "      <th>3</th>\n",
              "      <td>0</td>\n",
              "      <td>5295</td>\n",
              "      <td>15734058</td>\n",
              "      <td>Anayochukwu</td>\n",
              "      <td>509</td>\n",
              "      <td>Germany</td>\n",
              "      <td>Male</td>\n",
              "      <td>32</td>\n",
              "      <td>9</td>\n",
              "      <td>170661.47</td>\n",
              "      <td>1</td>\n",
              "      <td>1</td>\n",
              "      <td>1</td>\n",
              "      <td>21646.20</td>\n",
              "    </tr>\n",
              "    <tr>\n",
              "      <th>4</th>\n",
              "      <td>0</td>\n",
              "      <td>6823</td>\n",
              "      <td>15605264</td>\n",
              "      <td>Walker</td>\n",
              "      <td>669</td>\n",
              "      <td>Germany</td>\n",
              "      <td>Male</td>\n",
              "      <td>47</td>\n",
              "      <td>0</td>\n",
              "      <td>63723.78</td>\n",
              "      <td>2</td>\n",
              "      <td>1</td>\n",
              "      <td>1</td>\n",
              "      <td>181928.25</td>\n",
              "    </tr>\n",
              "    <tr>\n",
              "      <th>...</th>\n",
              "      <td>...</td>\n",
              "      <td>...</td>\n",
              "      <td>...</td>\n",
              "      <td>...</td>\n",
              "      <td>...</td>\n",
              "      <td>...</td>\n",
              "      <td>...</td>\n",
              "      <td>...</td>\n",
              "      <td>...</td>\n",
              "      <td>...</td>\n",
              "      <td>...</td>\n",
              "      <td>...</td>\n",
              "      <td>...</td>\n",
              "      <td>...</td>\n",
              "    </tr>\n",
              "    <tr>\n",
              "      <th>1595</th>\n",
              "      <td>0</td>\n",
              "      <td>5894</td>\n",
              "      <td>15641004</td>\n",
              "      <td>Doyne</td>\n",
              "      <td>605</td>\n",
              "      <td>Spain</td>\n",
              "      <td>Female</td>\n",
              "      <td>48</td>\n",
              "      <td>10</td>\n",
              "      <td>150315.92</td>\n",
              "      <td>1</td>\n",
              "      <td>0</td>\n",
              "      <td>1</td>\n",
              "      <td>133486.36</td>\n",
              "    </tr>\n",
              "    <tr>\n",
              "      <th>1596</th>\n",
              "      <td>0</td>\n",
              "      <td>695</td>\n",
              "      <td>15681068</td>\n",
              "      <td>Chinagorom</td>\n",
              "      <td>796</td>\n",
              "      <td>France</td>\n",
              "      <td>Female</td>\n",
              "      <td>45</td>\n",
              "      <td>2</td>\n",
              "      <td>109730.22</td>\n",
              "      <td>1</td>\n",
              "      <td>1</td>\n",
              "      <td>1</td>\n",
              "      <td>123882.73</td>\n",
              "    </tr>\n",
              "    <tr>\n",
              "      <th>1597</th>\n",
              "      <td>0</td>\n",
              "      <td>9003</td>\n",
              "      <td>15610727</td>\n",
              "      <td>Ch'in</td>\n",
              "      <td>605</td>\n",
              "      <td>France</td>\n",
              "      <td>Male</td>\n",
              "      <td>36</td>\n",
              "      <td>7</td>\n",
              "      <td>128829.25</td>\n",
              "      <td>1</td>\n",
              "      <td>1</td>\n",
              "      <td>0</td>\n",
              "      <td>190588.59</td>\n",
              "    </tr>\n",
              "    <tr>\n",
              "      <th>1598</th>\n",
              "      <td>0</td>\n",
              "      <td>164</td>\n",
              "      <td>15680772</td>\n",
              "      <td>Hu</td>\n",
              "      <td>721</td>\n",
              "      <td>Spain</td>\n",
              "      <td>Female</td>\n",
              "      <td>36</td>\n",
              "      <td>2</td>\n",
              "      <td>0.00</td>\n",
              "      <td>2</td>\n",
              "      <td>1</td>\n",
              "      <td>1</td>\n",
              "      <td>106977.80</td>\n",
              "    </tr>\n",
              "    <tr>\n",
              "      <th>1599</th>\n",
              "      <td>0</td>\n",
              "      <td>3670</td>\n",
              "      <td>15576185</td>\n",
              "      <td>Sinclair</td>\n",
              "      <td>653</td>\n",
              "      <td>France</td>\n",
              "      <td>Male</td>\n",
              "      <td>29</td>\n",
              "      <td>2</td>\n",
              "      <td>0.00</td>\n",
              "      <td>2</td>\n",
              "      <td>1</td>\n",
              "      <td>1</td>\n",
              "      <td>41671.81</td>\n",
              "    </tr>\n",
              "  </tbody>\n",
              "</table>\n",
              "<p>1600 rows × 14 columns</p>\n",
              "</div>"
            ],
            "text/plain": [
              "      Exited  RowNumber  CustomerId  ... HasCrCard  IsActiveMember EstimatedSalary\n",
              "0          0       6796    15713347  ...         1               0       193580.32\n",
              "1          0       9255    15601116  ...         1               1       179093.26\n",
              "2          0       5074    15800295  ...         0               0       141230.07\n",
              "3          0       5295    15734058  ...         1               1        21646.20\n",
              "4          0       6823    15605264  ...         1               1       181928.25\n",
              "...      ...        ...         ...  ...       ...             ...             ...\n",
              "1595       0       5894    15641004  ...         0               1       133486.36\n",
              "1596       0        695    15681068  ...         1               1       123882.73\n",
              "1597       0       9003    15610727  ...         1               0       190588.59\n",
              "1598       0        164    15680772  ...         1               1       106977.80\n",
              "1599       0       3670    15576185  ...         1               1        41671.81\n",
              "\n",
              "[1600 rows x 14 columns]"
            ]
          },
          "metadata": {
            "tags": []
          },
          "execution_count": 1310
        }
      ]
    },
    {
      "cell_type": "code",
      "metadata": {
        "id": "h006pw5p4CtY"
      },
      "source": [
        "#Drop Feature (Elimino queste 3 feature poichè esistono solo per identificare l'utente quindi non sono utili per l'analisi)\n",
        "train=train.drop(axis=1, columns='RowNumber')\n",
        "train=train.drop(axis=1, columns='CustomerId')\n",
        "train=train.drop(axis=1, columns='Surname')\n",
        "#test\n",
        "test=test.drop(axis=1, columns='RowNumber')\n",
        "test=test.drop(axis=1, columns='CustomerId')\n",
        "test=test.drop(axis=1, columns='Surname')"
      ],
      "execution_count": 1311,
      "outputs": []
    },
    {
      "cell_type": "code",
      "metadata": {
        "colab": {
          "base_uri": "https://localhost:8080/"
        },
        "id": "wiciYyiigbmx",
        "outputId": "a952feda-1156-4451-c3a5-866959b64d24"
      },
      "source": [
        "#Counting Missing Values(train)\n",
        "missing_values_count = train.isnull().sum()\n",
        "missing_values_count"
      ],
      "execution_count": 1312,
      "outputs": [
        {
          "output_type": "execute_result",
          "data": {
            "text/plain": [
              "Exited             0\n",
              "CreditScore        0\n",
              "Geography          0\n",
              "Gender             0\n",
              "Age                0\n",
              "Tenure             0\n",
              "Balance            0\n",
              "NumOfProducts      0\n",
              "HasCrCard          0\n",
              "IsActiveMember     0\n",
              "EstimatedSalary    0\n",
              "dtype: int64"
            ]
          },
          "metadata": {
            "tags": []
          },
          "execution_count": 1312
        }
      ]
    },
    {
      "cell_type": "code",
      "metadata": {
        "colab": {
          "base_uri": "https://localhost:8080/"
        },
        "id": "xU_SWjx0gcxQ",
        "outputId": "79bb5887-67eb-444c-d4e1-f53669132403"
      },
      "source": [
        "#Counting Missing Values(test)\n",
        "missing_values_count = test.isnull().sum()\n",
        "missing_values_count"
      ],
      "execution_count": 1313,
      "outputs": [
        {
          "output_type": "execute_result",
          "data": {
            "text/plain": [
              "Exited             0\n",
              "CreditScore        0\n",
              "Geography          0\n",
              "Gender             0\n",
              "Age                0\n",
              "Tenure             0\n",
              "Balance            0\n",
              "NumOfProducts      0\n",
              "HasCrCard          0\n",
              "IsActiveMember     0\n",
              "EstimatedSalary    0\n",
              "dtype: int64"
            ]
          },
          "metadata": {
            "tags": []
          },
          "execution_count": 1313
        }
      ]
    },
    {
      "cell_type": "code",
      "metadata": {
        "colab": {
          "base_uri": "https://localhost:8080/"
        },
        "id": "VYMYQhlYlrjx",
        "outputId": "cd71b61d-35a8-4c24-a706-0b46f64892ee"
      },
      "source": [
        "train.info()"
      ],
      "execution_count": 1314,
      "outputs": [
        {
          "output_type": "stream",
          "text": [
            "<class 'pandas.core.frame.DataFrame'>\n",
            "RangeIndex: 6400 entries, 0 to 6399\n",
            "Data columns (total 11 columns):\n",
            " #   Column           Non-Null Count  Dtype  \n",
            "---  ------           --------------  -----  \n",
            " 0   Exited           6400 non-null   int64  \n",
            " 1   CreditScore      6400 non-null   int64  \n",
            " 2   Geography        6400 non-null   object \n",
            " 3   Gender           6400 non-null   object \n",
            " 4   Age              6400 non-null   int64  \n",
            " 5   Tenure           6400 non-null   int64  \n",
            " 6   Balance          6400 non-null   float64\n",
            " 7   NumOfProducts    6400 non-null   int64  \n",
            " 8   HasCrCard        6400 non-null   int64  \n",
            " 9   IsActiveMember   6400 non-null   int64  \n",
            " 10  EstimatedSalary  6400 non-null   float64\n",
            "dtypes: float64(2), int64(7), object(2)\n",
            "memory usage: 550.1+ KB\n"
          ],
          "name": "stdout"
        }
      ]
    },
    {
      "cell_type": "code",
      "metadata": {
        "colab": {
          "base_uri": "https://localhost:8080/",
          "height": 297
        },
        "id": "0nUuwYTY7nyo",
        "outputId": "b867fc6f-69db-41e7-fc6e-55e8dd429d1a"
      },
      "source": [
        "#See Details of Datatset\n",
        "train.describe()"
      ],
      "execution_count": 1315,
      "outputs": [
        {
          "output_type": "execute_result",
          "data": {
            "text/html": [
              "<div>\n",
              "<style scoped>\n",
              "    .dataframe tbody tr th:only-of-type {\n",
              "        vertical-align: middle;\n",
              "    }\n",
              "\n",
              "    .dataframe tbody tr th {\n",
              "        vertical-align: top;\n",
              "    }\n",
              "\n",
              "    .dataframe thead th {\n",
              "        text-align: right;\n",
              "    }\n",
              "</style>\n",
              "<table border=\"1\" class=\"dataframe\">\n",
              "  <thead>\n",
              "    <tr style=\"text-align: right;\">\n",
              "      <th></th>\n",
              "      <th>Exited</th>\n",
              "      <th>CreditScore</th>\n",
              "      <th>Age</th>\n",
              "      <th>Tenure</th>\n",
              "      <th>Balance</th>\n",
              "      <th>NumOfProducts</th>\n",
              "      <th>HasCrCard</th>\n",
              "      <th>IsActiveMember</th>\n",
              "      <th>EstimatedSalary</th>\n",
              "    </tr>\n",
              "  </thead>\n",
              "  <tbody>\n",
              "    <tr>\n",
              "      <th>count</th>\n",
              "      <td>6400.000000</td>\n",
              "      <td>6400.000000</td>\n",
              "      <td>6400.000000</td>\n",
              "      <td>6400.000000</td>\n",
              "      <td>6400.000000</td>\n",
              "      <td>6400.000000</td>\n",
              "      <td>6400.000000</td>\n",
              "      <td>6400.000000</td>\n",
              "      <td>6400.000000</td>\n",
              "    </tr>\n",
              "    <tr>\n",
              "      <th>mean</th>\n",
              "      <td>0.204375</td>\n",
              "      <td>651.577344</td>\n",
              "      <td>38.829531</td>\n",
              "      <td>4.997187</td>\n",
              "      <td>75891.214042</td>\n",
              "      <td>1.533594</td>\n",
              "      <td>0.703906</td>\n",
              "      <td>0.515781</td>\n",
              "      <td>99979.975328</td>\n",
              "    </tr>\n",
              "    <tr>\n",
              "      <th>std</th>\n",
              "      <td>0.403276</td>\n",
              "      <td>96.961277</td>\n",
              "      <td>10.544683</td>\n",
              "      <td>2.869892</td>\n",
              "      <td>62389.353698</td>\n",
              "      <td>0.581366</td>\n",
              "      <td>0.456569</td>\n",
              "      <td>0.499790</td>\n",
              "      <td>57277.172161</td>\n",
              "    </tr>\n",
              "    <tr>\n",
              "      <th>min</th>\n",
              "      <td>0.000000</td>\n",
              "      <td>350.000000</td>\n",
              "      <td>18.000000</td>\n",
              "      <td>0.000000</td>\n",
              "      <td>0.000000</td>\n",
              "      <td>1.000000</td>\n",
              "      <td>0.000000</td>\n",
              "      <td>0.000000</td>\n",
              "      <td>90.070000</td>\n",
              "    </tr>\n",
              "    <tr>\n",
              "      <th>25%</th>\n",
              "      <td>0.000000</td>\n",
              "      <td>585.000000</td>\n",
              "      <td>32.000000</td>\n",
              "      <td>3.000000</td>\n",
              "      <td>0.000000</td>\n",
              "      <td>1.000000</td>\n",
              "      <td>0.000000</td>\n",
              "      <td>0.000000</td>\n",
              "      <td>51315.622500</td>\n",
              "    </tr>\n",
              "    <tr>\n",
              "      <th>50%</th>\n",
              "      <td>0.000000</td>\n",
              "      <td>653.000000</td>\n",
              "      <td>37.000000</td>\n",
              "      <td>5.000000</td>\n",
              "      <td>96120.470000</td>\n",
              "      <td>1.000000</td>\n",
              "      <td>1.000000</td>\n",
              "      <td>1.000000</td>\n",
              "      <td>99691.065000</td>\n",
              "    </tr>\n",
              "    <tr>\n",
              "      <th>75%</th>\n",
              "      <td>0.000000</td>\n",
              "      <td>720.000000</td>\n",
              "      <td>44.000000</td>\n",
              "      <td>7.000000</td>\n",
              "      <td>127300.880000</td>\n",
              "      <td>2.000000</td>\n",
              "      <td>1.000000</td>\n",
              "      <td>1.000000</td>\n",
              "      <td>148609.172500</td>\n",
              "    </tr>\n",
              "    <tr>\n",
              "      <th>max</th>\n",
              "      <td>1.000000</td>\n",
              "      <td>850.000000</td>\n",
              "      <td>92.000000</td>\n",
              "      <td>10.000000</td>\n",
              "      <td>250898.090000</td>\n",
              "      <td>4.000000</td>\n",
              "      <td>1.000000</td>\n",
              "      <td>1.000000</td>\n",
              "      <td>199909.320000</td>\n",
              "    </tr>\n",
              "  </tbody>\n",
              "</table>\n",
              "</div>"
            ],
            "text/plain": [
              "            Exited  CreditScore  ...  IsActiveMember  EstimatedSalary\n",
              "count  6400.000000  6400.000000  ...     6400.000000      6400.000000\n",
              "mean      0.204375   651.577344  ...        0.515781     99979.975328\n",
              "std       0.403276    96.961277  ...        0.499790     57277.172161\n",
              "min       0.000000   350.000000  ...        0.000000        90.070000\n",
              "25%       0.000000   585.000000  ...        0.000000     51315.622500\n",
              "50%       0.000000   653.000000  ...        1.000000     99691.065000\n",
              "75%       0.000000   720.000000  ...        1.000000    148609.172500\n",
              "max       1.000000   850.000000  ...        1.000000    199909.320000\n",
              "\n",
              "[8 rows x 9 columns]"
            ]
          },
          "metadata": {
            "tags": []
          },
          "execution_count": 1315
        }
      ]
    },
    {
      "cell_type": "code",
      "metadata": {
        "colab": {
          "base_uri": "https://localhost:8080/",
          "height": 394
        },
        "id": "gDTnVvNZUlNR",
        "outputId": "b8becd32-db09-4591-89a8-9f029f8fd041"
      },
      "source": [
        "#Data Visualization\n",
        "_, ax = plt.subplots(1, 3, figsize=(18, 6))\n",
        "plt.subplots_adjust(wspace=0.3)\n",
        "sns.countplot(x = \"NumOfProducts\", hue=\"Exited\", data = train, ax= ax[0])\n",
        "sns.countplot(x = \"HasCrCard\", hue=\"Exited\", data = train, ax = ax[1])\n",
        "sns.countplot(x = \"IsActiveMember\", hue=\"Exited\", data = train, ax = ax[2])\n",
        "plt.show()"
      ],
      "execution_count": 1316,
      "outputs": [
        {
          "output_type": "display_data",
          "data": {
            "image/png": "[encoded data removed]",
            "text/plain": [
              "<Figure size 1296x432 with 3 Axes>"
            ]
          },
          "metadata": {
            "tags": []
          }
        }
      ]
    },
    {
      "cell_type": "code",
      "metadata": {
        "id": "_ZycDqs-U6RW"
      },
      "source": [
        "#Da questi grafici notiamo che i clienti con 3-4 Prodotti hanno percentuali molto alte di uscire, \n",
        "#Notiamo anche che i membri che non sono attivi hanno più probabilità di uscire rispetto agli altri, \n",
        "#Mentre per quanto riguarda i possessori di carte di credito non notiamo particolari corrispondenze"
      ],
      "execution_count": 1317,
      "outputs": []
    },
    {
      "cell_type": "code",
      "metadata": {
        "colab": {
          "base_uri": "https://localhost:8080/",
          "height": 285
        },
        "id": "r3c8xd9yYyAy",
        "outputId": "639bde52-7ec5-43e2-bd7e-372245884d25"
      },
      "source": [
        "#Data Visualization\n",
        "sns.countplot(x='Geography', hue = 'Exited',data = train)\n",
        "plt.show()"
      ],
      "execution_count": 1318,
      "outputs": [
        {
          "output_type": "display_data",
          "data": {
            "image/png": "[encoded data removed]",
            "text/plain": [
              "<Figure size 432x288 with 1 Axes>"
            ]
          },
          "metadata": {
            "tags": []
          }
        }
      ]
    },
    {
      "cell_type": "code",
      "metadata": {
        "id": "K31YWBc4aWGx"
      },
      "source": [
        "#Da questo grafico notiamo la Germania ha percentuali più alte di Exited"
      ],
      "execution_count": 1319,
      "outputs": []
    },
    {
      "cell_type": "code",
      "metadata": {
        "colab": {
          "base_uri": "https://localhost:8080/"
        },
        "id": "tDQrMxw0POCw",
        "outputId": "24d03b7f-80c1-4432-d4a8-b24b655c0b82"
      },
      "source": [
        "# Percentage per category for the target column.\n",
        "percentage_labels = train['Exited'].value_counts(normalize = True) * 100\n",
        "percentage_labels"
      ],
      "execution_count": 1320,
      "outputs": [
        {
          "output_type": "execute_result",
          "data": {
            "text/plain": [
              "0    79.5625\n",
              "1    20.4375\n",
              "Name: Exited, dtype: float64"
            ]
          },
          "metadata": {
            "tags": []
          },
          "execution_count": 1320
        }
      ]
    },
    {
      "cell_type": "code",
      "metadata": {
        "id": "_twFCgx7xs6P"
      },
      "source": [
        "#Da questa percentuale notiamo quindi che abbiamo molte meno informazioni sui clienti Exited quindi essendoci meno informazioni sui clienti che escono \n",
        "#sarà più facile commettere errori nella previsione di questi ultimi "
      ],
      "execution_count": 1321,
      "outputs": []
    },
    {
      "cell_type": "code",
      "metadata": {
        "colab": {
          "base_uri": "https://localhost:8080/",
          "height": 437
        },
        "id": "2BaFkIR_ucEq",
        "outputId": "516464f0-03f9-4a7b-fc4e-53703d502985"
      },
      "source": [
        "#Visualizzazione distribuzione EstimatedSalary\n",
        "sns.displot(data=train, x=\"EstimatedSalary\", hue=\"Exited\",  height=6, aspect=1.5, kde = True)\n",
        "plt.show()"
      ],
      "execution_count": 1322,
      "outputs": [
        {
          "output_type": "display_data",
          "data": {
            "image/png": "[encoded data removed]",
            "text/plain": [
              "<Figure size 694.6x432 with 1 Axes>"
            ]
          },
          "metadata": {
            "tags": []
          }
        }
      ]
    },
    {
      "cell_type": "code",
      "metadata": {
        "colab": {
          "base_uri": "https://localhost:8080/",
          "height": 359
        },
        "id": "69d5RT49_irj",
        "outputId": "d4812e06-c96b-4648-ac01-aa1098ee964b"
      },
      "source": [
        "#Divide Salary in band(Dato che i valori oscillano molto decido di dividere i Salari stimati in 10 fasce)\n",
        "train['EstimatedSalaryBand'] = pd.cut(train['EstimatedSalary'], 10)\n",
        "train[['EstimatedSalaryBand', 'Exited']].groupby(['EstimatedSalaryBand'], as_index=False).mean().sort_values(by='EstimatedSalaryBand', ascending=True)"
      ],
      "execution_count": 1323,
      "outputs": [
        {
          "output_type": "execute_result",
          "data": {
            "text/html": [
              "<div>\n",
              "<style scoped>\n",
              "    .dataframe tbody tr th:only-of-type {\n",
              "        vertical-align: middle;\n",
              "    }\n",
              "\n",
              "    .dataframe tbody tr th {\n",
              "        vertical-align: top;\n",
              "    }\n",
              "\n",
              "    .dataframe thead th {\n",
              "        text-align: right;\n",
              "    }\n",
              "</style>\n",
              "<table border=\"1\" class=\"dataframe\">\n",
              "  <thead>\n",
              "    <tr style=\"text-align: right;\">\n",
              "      <th></th>\n",
              "      <th>EstimatedSalaryBand</th>\n",
              "      <th>Exited</th>\n",
              "    </tr>\n",
              "  </thead>\n",
              "  <tbody>\n",
              "    <tr>\n",
              "      <th>0</th>\n",
              "      <td>(-109.749, 20071.995]</td>\n",
              "      <td>0.201268</td>\n",
              "    </tr>\n",
              "    <tr>\n",
              "      <th>1</th>\n",
              "      <td>(20071.995, 40053.92]</td>\n",
              "      <td>0.197694</td>\n",
              "    </tr>\n",
              "    <tr>\n",
              "      <th>2</th>\n",
              "      <td>(40053.92, 60035.845]</td>\n",
              "      <td>0.194745</td>\n",
              "    </tr>\n",
              "    <tr>\n",
              "      <th>3</th>\n",
              "      <td>(60035.845, 80017.77]</td>\n",
              "      <td>0.211656</td>\n",
              "    </tr>\n",
              "    <tr>\n",
              "      <th>4</th>\n",
              "      <td>(80017.77, 99999.695]</td>\n",
              "      <td>0.197329</td>\n",
              "    </tr>\n",
              "    <tr>\n",
              "      <th>5</th>\n",
              "      <td>(99999.695, 119981.62]</td>\n",
              "      <td>0.212481</td>\n",
              "    </tr>\n",
              "    <tr>\n",
              "      <th>6</th>\n",
              "      <td>(119981.62, 139963.545]</td>\n",
              "      <td>0.196513</td>\n",
              "    </tr>\n",
              "    <tr>\n",
              "      <th>7</th>\n",
              "      <td>(139963.545, 159945.47]</td>\n",
              "      <td>0.211538</td>\n",
              "    </tr>\n",
              "    <tr>\n",
              "      <th>8</th>\n",
              "      <td>(159945.47, 179927.395]</td>\n",
              "      <td>0.221350</td>\n",
              "    </tr>\n",
              "    <tr>\n",
              "      <th>9</th>\n",
              "      <td>(179927.395, 199909.32]</td>\n",
              "      <td>0.198718</td>\n",
              "    </tr>\n",
              "  </tbody>\n",
              "</table>\n",
              "</div>"
            ],
            "text/plain": [
              "       EstimatedSalaryBand    Exited\n",
              "0    (-109.749, 20071.995]  0.201268\n",
              "1    (20071.995, 40053.92]  0.197694\n",
              "2    (40053.92, 60035.845]  0.194745\n",
              "3    (60035.845, 80017.77]  0.211656\n",
              "4    (80017.77, 99999.695]  0.197329\n",
              "5   (99999.695, 119981.62]  0.212481\n",
              "6  (119981.62, 139963.545]  0.196513\n",
              "7  (139963.545, 159945.47]  0.211538\n",
              "8  (159945.47, 179927.395]  0.221350\n",
              "9  (179927.395, 199909.32]  0.198718"
            ]
          },
          "metadata": {
            "tags": []
          },
          "execution_count": 1323
        }
      ]
    },
    {
      "cell_type": "code",
      "metadata": {
        "colab": {
          "base_uri": "https://localhost:8080/"
        },
        "id": "grEtoaVI_tOo",
        "outputId": "eadbada1-c156-4256-fa81-a4714f65c67a"
      },
      "source": [
        "train.loc[train['EstimatedSalary'] <= 20071.995, 'EstimatedSalary'] = 0\n",
        "train.loc[(train['EstimatedSalary'] > 20071.995) & (train['EstimatedSalary'] <= 40053.92), 'EstimatedSalary'] = 1\n",
        "train.loc[(train['EstimatedSalary'] > 40053.92) & (train['EstimatedSalary'] <= 60035.845), 'EstimatedSalary'] = 2\n",
        "train.loc[(train['EstimatedSalary'] > 60035.845) & (train['EstimatedSalary'] <= 80017.77), 'EstimatedSalary'] = 3\n",
        "train.loc[(train['EstimatedSalary'] > 80017.77) & (train['EstimatedSalary'] <= 99999.695), 'EstimatedSalary'] = 4\n",
        "train.loc[(train['EstimatedSalary'] > 99999.695) & (train['EstimatedSalary'] <= 119981.62), 'EstimatedSalary'] = 5\n",
        "train.loc[(train['EstimatedSalary'] > 119981.62) & (train['EstimatedSalary'] <= 139963.545), 'EstimatedSalary'] = 6\n",
        "train.loc[(train['EstimatedSalary'] > 139963.545) & (train['EstimatedSalary'] <= 159945.47), 'EstimatedSalary'] = 7\n",
        "train.loc[(train['EstimatedSalary'] > 159945.47) & (train['EstimatedSalary'] <= 179927.395), 'EstimatedSalary'] = 8\n",
        "train.loc[(train['EstimatedSalary'] > 179927.395) & (train['EstimatedSalary'] <= 199909.32), 'EstimatedSalary'] = 9\n",
        "\n",
        "\n",
        "test.loc[test['EstimatedSalary'] <= 20071.995, 'EstimatedSalary'] = 0\n",
        "test.loc[(test['EstimatedSalary'] > 20071.995) & (test['EstimatedSalary'] <= 40053.92), 'EstimatedSalary'] = 1\n",
        "test.loc[(test['EstimatedSalary'] > 40053.92) & (test['EstimatedSalary'] <= 60035.845), 'EstimatedSalary'] = 2\n",
        "test.loc[(test['EstimatedSalary'] > 60035.845) & (test['EstimatedSalary'] <= 80017.77), 'EstimatedSalary'] = 3\n",
        "test.loc[(test['EstimatedSalary'] > 80017.77) & (test['EstimatedSalary'] <= 99999.695), 'EstimatedSalary'] = 4\n",
        "test.loc[(test['EstimatedSalary'] > 99999.695) & (test['EstimatedSalary'] <= 119981.62), 'EstimatedSalary'] = 5\n",
        "test.loc[(test['EstimatedSalary'] > 119981.62) & (test['EstimatedSalary'] <= 139963.545), 'EstimatedSalary'] = 6\n",
        "test.loc[(test['EstimatedSalary'] > 139963.545) & (test['EstimatedSalary'] <= 159945.47), 'EstimatedSalary'] = 7\n",
        "test.loc[(test['EstimatedSalary'] > 159945.47) & (test['EstimatedSalary'] <= 179927.395), 'EstimatedSalary'] = 8\n",
        "test.loc[(test['EstimatedSalary'] > 179927.395) & (test['EstimatedSalary'] <= 199909.32), 'EstimatedSalary'] = 9\n",
        "\n",
        "train = train = train.drop(\"EstimatedSalaryBand\", axis = 1)\n",
        "#verifichiamo\n",
        "train.EstimatedSalary.unique()"
      ],
      "execution_count": 1324,
      "outputs": [
        {
          "output_type": "execute_result",
          "data": {
            "text/plain": [
              "array([3., 9., 8., 7., 0., 5., 4., 6., 2., 1.])"
            ]
          },
          "metadata": {
            "tags": []
          },
          "execution_count": 1324
        }
      ]
    },
    {
      "cell_type": "code",
      "metadata": {
        "colab": {
          "base_uri": "https://localhost:8080/",
          "height": 437
        },
        "id": "n3tht3gMu5Qo",
        "outputId": "a66558e8-a930-406b-8b20-5b157a4113c7"
      },
      "source": [
        "sns.displot(data=train, x=\"Balance\", hue=\"Exited\",  height=6, aspect=1.5, kde = True)\n",
        "plt.show()"
      ],
      "execution_count": 1325,
      "outputs": [
        {
          "output_type": "display_data",
          "data": {
            "image/png": "[encoded data removed]",
            "text/plain": [
              "<Figure size 694.6x432 with 1 Axes>"
            ]
          },
          "metadata": {
            "tags": []
          }
        }
      ]
    },
    {
      "cell_type": "code",
      "metadata": {
        "colab": {
          "base_uri": "https://localhost:8080/",
          "height": 359
        },
        "id": "Zz2cYeOXKMWc",
        "outputId": "b3a358ff-5a71-4d8e-91c2-e4415c9dfd25"
      },
      "source": [
        "#Divide Salary in band\n",
        "train['BalanceBand'] = pd.cut(train['Balance'], 10)\n",
        "train[['BalanceBand', 'Exited']].groupby(['BalanceBand'], as_index=False).mean().sort_values(by='BalanceBand', ascending=True)"
      ],
      "execution_count": 1326,
      "outputs": [
        {
          "output_type": "execute_result",
          "data": {
            "text/html": [
              "<div>\n",
              "<style scoped>\n",
              "    .dataframe tbody tr th:only-of-type {\n",
              "        vertical-align: middle;\n",
              "    }\n",
              "\n",
              "    .dataframe tbody tr th {\n",
              "        vertical-align: top;\n",
              "    }\n",
              "\n",
              "    .dataframe thead th {\n",
              "        text-align: right;\n",
              "    }\n",
              "</style>\n",
              "<table border=\"1\" class=\"dataframe\">\n",
              "  <thead>\n",
              "    <tr style=\"text-align: right;\">\n",
              "      <th></th>\n",
              "      <th>BalanceBand</th>\n",
              "      <th>Exited</th>\n",
              "    </tr>\n",
              "  </thead>\n",
              "  <tbody>\n",
              "    <tr>\n",
              "      <th>0</th>\n",
              "      <td>(-250.898, 25089.809]</td>\n",
              "      <td>0.141638</td>\n",
              "    </tr>\n",
              "    <tr>\n",
              "      <th>1</th>\n",
              "      <td>(25089.809, 50179.618]</td>\n",
              "      <td>0.250000</td>\n",
              "    </tr>\n",
              "    <tr>\n",
              "      <th>2</th>\n",
              "      <td>(50179.618, 75269.427]</td>\n",
              "      <td>0.243478</td>\n",
              "    </tr>\n",
              "    <tr>\n",
              "      <th>3</th>\n",
              "      <td>(75269.427, 100359.236]</td>\n",
              "      <td>0.199224</td>\n",
              "    </tr>\n",
              "    <tr>\n",
              "      <th>4</th>\n",
              "      <td>(100359.236, 125449.045]</td>\n",
              "      <td>0.260837</td>\n",
              "    </tr>\n",
              "    <tr>\n",
              "      <th>5</th>\n",
              "      <td>(125449.045, 150538.854]</td>\n",
              "      <td>0.247048</td>\n",
              "    </tr>\n",
              "    <tr>\n",
              "      <th>6</th>\n",
              "      <td>(150538.854, 175628.663]</td>\n",
              "      <td>0.214751</td>\n",
              "    </tr>\n",
              "    <tr>\n",
              "      <th>7</th>\n",
              "      <td>(175628.663, 200718.472]</td>\n",
              "      <td>0.247863</td>\n",
              "    </tr>\n",
              "    <tr>\n",
              "      <th>8</th>\n",
              "      <td>(200718.472, 225808.281]</td>\n",
              "      <td>0.647059</td>\n",
              "    </tr>\n",
              "    <tr>\n",
              "      <th>9</th>\n",
              "      <td>(225808.281, 250898.09]</td>\n",
              "      <td>1.000000</td>\n",
              "    </tr>\n",
              "  </tbody>\n",
              "</table>\n",
              "</div>"
            ],
            "text/plain": [
              "                BalanceBand    Exited\n",
              "0     (-250.898, 25089.809]  0.141638\n",
              "1    (25089.809, 50179.618]  0.250000\n",
              "2    (50179.618, 75269.427]  0.243478\n",
              "3   (75269.427, 100359.236]  0.199224\n",
              "4  (100359.236, 125449.045]  0.260837\n",
              "5  (125449.045, 150538.854]  0.247048\n",
              "6  (150538.854, 175628.663]  0.214751\n",
              "7  (175628.663, 200718.472]  0.247863\n",
              "8  (200718.472, 225808.281]  0.647059\n",
              "9   (225808.281, 250898.09]  1.000000"
            ]
          },
          "metadata": {
            "tags": []
          },
          "execution_count": 1326
        }
      ]
    },
    {
      "cell_type": "code",
      "metadata": {
        "colab": {
          "base_uri": "https://localhost:8080/"
        },
        "id": "8b45pjyQKZmU",
        "outputId": "9d81d499-333c-4592-d8b3-9481e56432ad"
      },
      "source": [
        "train.loc[train['Balance'] <= 25089.809, 'Balance'] = 0\n",
        "train.loc[(train['Balance'] > 25089.809) & (train['Balance'] <= 50179.618), 'Balance'] = 1\n",
        "train.loc[(train['Balance'] > 50179.618) & (train['Balance'] <=  75269.427), 'Balance'] = 2\n",
        "train.loc[(train['Balance'] > 75269.427) & (train['Balance'] <= 100359.236), 'Balance'] = 3\n",
        "train.loc[(train['Balance'] > 100359.236) & (train['Balance'] <= 125449.045), 'Balance'] = 4\n",
        "train.loc[(train['Balance'] > 125449.045) & (train['Balance'] <= 150538.854), 'Balance'] = 5\n",
        "train.loc[(train['Balance'] > 150538.854) & (train['Balance'] <= 175628.663), 'Balance'] = 6\n",
        "train.loc[(train['Balance'] > 175628.663) & (train['Balance'] <= 200718.472), 'Balance'] = 7\n",
        "train.loc[(train['Balance'] > 200718.472) & (train['Balance'] <= 225808.281), 'Balance'] = 8\n",
        "train.loc[(train['Balance'] > 225808.281) & (train['Balance'] <= 250898.09), 'Balance'] = 9\n",
        "\n",
        "\n",
        "test.loc[test['Balance'] <= 25089.809, 'Balance'] = 0\n",
        "test.loc[(test['Balance'] > 25089.809) & (test['Balance'] <= 50179.618), 'Balance'] = 1\n",
        "test.loc[(test['Balance'] > 50179.618) & (test['Balance'] <=  75269.427), 'Balance'] = 2\n",
        "test.loc[(test['Balance'] > 75269.427) & (test['Balance'] <= 100359.236), 'Balance'] = 3\n",
        "test.loc[(test['Balance'] > 100359.236) & (test['Balance'] <= 125449.045), 'Balance'] = 4\n",
        "test.loc[(test['Balance'] > 125449.045) & (test['Balance'] <= 150538.854), 'Balance'] = 5\n",
        "test.loc[(test['Balance'] > 150538.854) & (test['Balance'] <= 175628.663), 'Balance'] = 6\n",
        "test.loc[(test['Balance'] > 175628.663) & (test['Balance'] <= 200718.472), 'Balance'] = 7\n",
        "test.loc[(test['Balance'] > 200718.472) & (test['Balance'] <= 225808.281), 'Balance'] = 8\n",
        "test.loc[(test['Balance'] > 225808.281) & (test['Balance'] <= 250898.09), 'Balance'] = 9\n",
        "\n",
        "train = train = train.drop(\"BalanceBand\", axis = 1)\n",
        "#verifichiamo\n",
        "train.Balance.unique()"
      ],
      "execution_count": 1327,
      "outputs": [
        {
          "output_type": "execute_result",
          "data": {
            "text/plain": [
              "array([3., 5., 7., 0., 2., 4., 6., 1., 8., 9.])"
            ]
          },
          "metadata": {
            "tags": []
          },
          "execution_count": 1327
        }
      ]
    },
    {
      "cell_type": "code",
      "metadata": {
        "id": "QhS5yxy5k1x5"
      },
      "source": [
        "#Encoding\n",
        "le = preprocessing.LabelEncoder()\n",
        "for l in train:\n",
        "  if ((l=='Geography')|(l=='Gender')):\n",
        "    train[l]=le.fit_transform(train[l].astype(str))\n",
        "    test[l]=le.fit_transform(test[l].astype(str))\n"
      ],
      "execution_count": 1328,
      "outputs": []
    },
    {
      "cell_type": "code",
      "metadata": {
        "colab": {
          "base_uri": "https://localhost:8080/",
          "height": 1000
        },
        "id": "1bldZuqDiep3",
        "outputId": "d6938519-782c-4479-8440-255a552d0d5f"
      },
      "source": [
        "#Correlation Graphic\n",
        "correlation = train.corr()\n",
        "plt.figure(figsize=(20,20))\n",
        "sns.heatmap(correlation, vmax=1,  cmap='rainbow', square=True,annot=True)\n",
        "plt.title('Correlazione tra features')\n",
        "plt.show()"
      ],
      "execution_count": 1329,
      "outputs": [
        {
          "output_type": "display_data",
          "data": {
            "image/png": "[encoded data removed]",
            "text/plain": [
              "<Figure size 1440x1440 with 2 Axes>"
            ]
          },
          "metadata": {
            "tags": []
          }
        }
      ]
    },
    {
      "cell_type": "code",
      "metadata": {
        "id": "wT2X4YoVj4YU"
      },
      "source": [
        "#Dal grafico della correlazione possiamo notare che ci sono molte features con bassissima correlazione con Exited, tra cui Estimated Salary(nonostante il raggruppamento) e HasCrCard\n",
        "#ma nonostante questo dopo varie prove dato l'utilizzo del Random Forest Classifier i valori di accuracy risultavano più alti nel caso in cui venivano lasciate, rispetto a dropparle\n",
        "#quindi decido di lasciarle, inoltre qui notiamo come l'età sia il valore che ha una maggiore correlazione con Exited"
      ],
      "execution_count": 1330,
      "outputs": []
    },
    {
      "cell_type": "code",
      "metadata": {
        "id": "NkIDeUzAgbNm"
      },
      "source": [
        "#Divide\n",
        "trainY=train['Exited']\n",
        "testY=test['Exited']\n",
        "trainX=train.drop('Exited', axis=1)\n",
        "testX=test.drop('Exited', axis=1)"
      ],
      "execution_count": 1331,
      "outputs": []
    },
    {
      "cell_type": "code",
      "metadata": {
        "colab": {
          "base_uri": "https://localhost:8080/"
        },
        "id": "8dC3C_9HgMKh",
        "outputId": "4403ad74-244a-4aa9-e4da-8eb1787a6ef5"
      },
      "source": [
        "#Model training and score(Modello non spiegato a lezione, è un classificatore d'insieme che si ottiene dall'aggregazione di alberi di decisione infatti come si può notare ha una precisione più alta rispetto al semplice Decision Tree)\n",
        "forest = RandomForestClassifier()\n",
        "forest.fit(trainX, trainY)\n",
        "prediction = forest.predict(testX)\n",
        "print('Accuracy:',(accuracy_score(testY, prediction)* 100), \"%\")"
      ],
      "execution_count": 1332,
      "outputs": [
        {
          "output_type": "stream",
          "text": [
            "Accuracy: 86.25 %\n"
          ],
          "name": "stdout"
        }
      ]
    },
    {
      "cell_type": "code",
      "metadata": {
        "colab": {
          "base_uri": "https://localhost:8080/",
          "height": 318
        },
        "id": "c1384Qet6JxT",
        "outputId": "7a503d48-588b-4741-bb13-7ad063479e91"
      },
      "source": [
        "#Confusion Matrix(Grafico utile per notare dove sono stati compiuti più errori da parte del modello)\n",
        "predY = forest.predict(testX)\n",
        "\n",
        "cnf_matrix = metrics.confusion_matrix(testY, predY)\n",
        "p = sns.heatmap(pd.DataFrame(cnf_matrix), annot=True, cmap=\"rainbow\" ,fmt='g')\n",
        "plt.title('Confusion matrix', y=1.1)\n",
        "plt.ylabel('Actual label')\n",
        "plt.xlabel('Predicted label')"
      ],
      "execution_count": 1333,
      "outputs": [
        {
          "output_type": "execute_result",
          "data": {
            "text/plain": [
              "Text(0.5, 12.5, 'Predicted label')"
            ]
          },
          "metadata": {
            "tags": []
          },
          "execution_count": 1333
        },
        {
          "output_type": "display_data",
          "data": {
            "image/png": "[encoded data removed]",
            "text/plain": [
              "<Figure size 432x288 with 2 Axes>"
            ]
          },
          "metadata": {
            "tags": []
          }
        }
      ]
    },
    {
      "cell_type": "code",
      "metadata": {
        "id": "7q6RXfqm6QAD"
      },
      "source": [
        "#Come ho annunciato in precedentemente abbiamo che principalmente gli errori sono stati compiuti per indovinare i clienti 'Exited' poichp i dati sono molto pochi su di essi "
      ],
      "execution_count": 1334,
      "outputs": []
    }
  ]
}