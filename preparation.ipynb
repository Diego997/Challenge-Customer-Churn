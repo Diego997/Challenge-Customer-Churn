{
  "nbformat": 4,
  "nbformat_minor": 0,
  "metadata": {
    "colab": {
      "name": "preparation.ipynb",
      "provenance": []
    },
    "kernelspec": {
      "name": "python3",
      "display_name": "Python 3"
    },
    "language_info": {
      "name": "python"
    }
  },
  "cells": [
    {
      "cell_type": "code",
      "metadata": {
        "id": "Qy_jXrxSIAzg"
      },
      "source": [
        "import pandas as pd\n",
        "from sklearn.model_selection import train_test_split"
      ],
      "execution_count": 10,
      "outputs": []
    },
    {
      "cell_type": "code",
      "metadata": {
        "id": "euqcWmz9IDyG"
      },
      "source": [
        "#Dataset import\n",
        "data= pd.read_csv('Churn.csv')"
      ],
      "execution_count": 11,
      "outputs": []
    },
    {
      "cell_type": "code",
      "metadata": {
        "id": "orlQuJsrIFtD"
      },
      "source": [
        "train, test = train_test_split(data, test_size=0.2)\n",
        "\n",
        "train.to_csv('train.csv',index=False)\n",
        "test.to_csv('test.csv',index=False)"
      ],
      "execution_count": 12,
      "outputs": []
    }
  ]
}